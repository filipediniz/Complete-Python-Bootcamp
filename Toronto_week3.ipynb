{
  "nbformat": 4,
  "nbformat_minor": 0,
  "metadata": {
    "colab": {
      "name": "Toronto_week3.ipynb",
      "provenance": [],
      "collapsed_sections": [],
      "authorship_tag": "ABX9TyN2DjWv32wnlpVTquYcBCAE",
      "include_colab_link": true
    },
    "kernelspec": {
      "name": "python3",
      "display_name": "Python 3"
    }
  },
  "cells": [
    {
      "cell_type": "markdown",
      "metadata": {
        "id": "view-in-github",
        "colab_type": "text"
      },
      "source": [
        "<a href=\"https://colab.research.google.com/github/filipediniz/Complete-Python-Bootcamp/blob/master/Toronto_week3.ipynb\" target=\"_parent\"><img src=\"https://colab.research.google.com/assets/colab-badge.svg\" alt=\"Open In Colab\"/></a>"
      ]
    },
    {
      "cell_type": "code",
      "metadata": {
        "id": "sKCKij_-AMDO",
        "colab_type": "code",
        "colab": {
          "base_uri": "https://localhost:8080/",
          "height": 1000
        },
        "outputId": "c944e364-b456-4223-8b9e-b94321695655"
      },
      "source": [
        "!pip install requests_html\n",
        "!pip install pixiedust"
      ],
      "execution_count": 1,
      "outputs": [
        {
          "output_type": "stream",
          "text": [
            "Collecting requests_html\n",
            "  Downloading https://files.pythonhosted.org/packages/24/bc/a4380f09bab3a776182578ce6b2771e57259d0d4dbce178205779abdc347/requests_html-0.10.0-py3-none-any.whl\n",
            "Collecting fake-useragent\n",
            "  Downloading https://files.pythonhosted.org/packages/d1/79/af647635d6968e2deb57a208d309f6069d31cb138066d7e821e575112a80/fake-useragent-0.1.11.tar.gz\n",
            "Collecting pyppeteer>=0.0.14\n",
            "\u001b[?25l  Downloading https://files.pythonhosted.org/packages/b0/16/a5e8d617994cac605f972523bb25f12e3ff9c30baee29b4a9c50467229d9/pyppeteer-0.0.25.tar.gz (1.2MB)\n",
            "\u001b[K     |████████████████████████████████| 1.2MB 4.1MB/s \n",
            "\u001b[?25hRequirement already satisfied: bs4 in /usr/local/lib/python3.6/dist-packages (from requests_html) (0.0.1)\n",
            "Collecting pyquery\n",
            "  Downloading https://files.pythonhosted.org/packages/78/43/95d42e386c61cb639d1a0b94f0c0b9f0b7d6b981ad3c043a836c8b5bc68b/pyquery-1.4.1-py2.py3-none-any.whl\n",
            "Collecting parse\n",
            "  Downloading https://files.pythonhosted.org/packages/f4/65/220bb4075fddb09d5b3ea2c1c1fa66c1c72be9361ec187aab50fa161e576/parse-1.15.0.tar.gz\n",
            "Requirement already satisfied: requests in /usr/local/lib/python3.6/dist-packages (from requests_html) (2.21.0)\n",
            "Collecting w3lib\n",
            "  Downloading https://files.pythonhosted.org/packages/6a/45/1ba17c50a0bb16bd950c9c2b92ec60d40c8ebda9f3371ae4230c437120b6/w3lib-1.21.0-py2.py3-none-any.whl\n",
            "Collecting pyee\n",
            "  Downloading https://files.pythonhosted.org/packages/d4/ce/a9a45667cdffbda2af63baa3ad1adca2feb80abf307d0dc91f9dfdfb3ec3/pyee-7.0.1-py2.py3-none-any.whl\n",
            "Collecting websockets\n",
            "\u001b[?25l  Downloading https://files.pythonhosted.org/packages/bb/d9/856af84843912e2853b1b6e898ac8b802989fcf9ecf8e8445a1da263bf3b/websockets-8.1-cp36-cp36m-manylinux2010_x86_64.whl (78kB)\n",
            "\u001b[K     |████████████████████████████████| 81kB 8.7MB/s \n",
            "\u001b[?25hCollecting appdirs\n",
            "  Downloading https://files.pythonhosted.org/packages/56/eb/810e700ed1349edde4cbdc1b2a21e28cdf115f9faf263f6bbf8447c1abf3/appdirs-1.4.3-py2.py3-none-any.whl\n",
            "Requirement already satisfied: urllib3 in /usr/local/lib/python3.6/dist-packages (from pyppeteer>=0.0.14->requests_html) (1.24.3)\n",
            "Requirement already satisfied: tqdm in /usr/local/lib/python3.6/dist-packages (from pyppeteer>=0.0.14->requests_html) (4.28.1)\n",
            "Requirement already satisfied: beautifulsoup4 in /usr/local/lib/python3.6/dist-packages (from bs4->requests_html) (4.6.3)\n",
            "Requirement already satisfied: lxml>=2.1 in /usr/local/lib/python3.6/dist-packages (from pyquery->requests_html) (4.2.6)\n",
            "Collecting cssselect>0.7.9\n",
            "  Downloading https://files.pythonhosted.org/packages/3b/d4/3b5c17f00cce85b9a1e6f91096e1cc8e8ede2e1be8e96b87ce1ed09e92c5/cssselect-1.1.0-py2.py3-none-any.whl\n",
            "Requirement already satisfied: certifi>=2017.4.17 in /usr/local/lib/python3.6/dist-packages (from requests->requests_html) (2019.11.28)\n",
            "Requirement already satisfied: idna<2.9,>=2.5 in /usr/local/lib/python3.6/dist-packages (from requests->requests_html) (2.8)\n",
            "Requirement already satisfied: chardet<3.1.0,>=3.0.2 in /usr/local/lib/python3.6/dist-packages (from requests->requests_html) (3.0.4)\n",
            "Requirement already satisfied: six>=1.4.1 in /usr/local/lib/python3.6/dist-packages (from w3lib->requests_html) (1.12.0)\n",
            "Building wheels for collected packages: fake-useragent, pyppeteer, parse\n",
            "  Building wheel for fake-useragent (setup.py) ... \u001b[?25l\u001b[?25hdone\n",
            "  Created wheel for fake-useragent: filename=fake_useragent-0.1.11-cp36-none-any.whl size=13484 sha256=ef62e9eb99b9f0a822dfa95ff99085b5d63da5576863ef2b064dda371aabfafc\n",
            "  Stored in directory: /root/.cache/pip/wheels/5e/63/09/d1dc15179f175357d3f5c00cbffbac37f9e8690d80545143ff\n",
            "  Building wheel for pyppeteer (setup.py) ... \u001b[?25l\u001b[?25hdone\n",
            "  Created wheel for pyppeteer: filename=pyppeteer-0.0.25-cp36-none-any.whl size=78360 sha256=c475e6de74af23cee9f21f628789911e933d92c6e30417da91b2668d305b969e\n",
            "  Stored in directory: /root/.cache/pip/wheels/34/e0/5d/070e22eceecf7ecd5fa4b86bbc18c1c7d0b90e02e9b57f35eb\n",
            "  Building wheel for parse (setup.py) ... \u001b[?25l\u001b[?25hdone\n",
            "  Created wheel for parse: filename=parse-1.15.0-cp36-none-any.whl size=23710 sha256=1a65c99b2a16065934b88f1beb9ac70b9f2b92c59df1e1d4641ea6534e3f5a94\n",
            "  Stored in directory: /root/.cache/pip/wheels/07/ee/c8/eced0759f09fc635398ab1b8e89c38549b28e5db7fd4a53ba5\n",
            "Successfully built fake-useragent pyppeteer parse\n",
            "Installing collected packages: fake-useragent, pyee, websockets, appdirs, pyppeteer, cssselect, pyquery, parse, w3lib, requests-html\n",
            "Successfully installed appdirs-1.4.3 cssselect-1.1.0 fake-useragent-0.1.11 parse-1.15.0 pyee-7.0.1 pyppeteer-0.0.25 pyquery-1.4.1 requests-html-0.10.0 w3lib-1.21.0 websockets-8.1\n",
            "Collecting pixiedust\n",
            "\u001b[?25l  Downloading https://files.pythonhosted.org/packages/16/ba/7488f06b48238205562f9d63aaae2303c060c5dfd63b1ddd3bd9d4656eb1/pixiedust-1.1.18.tar.gz (197kB)\n",
            "\u001b[K     |████████████████████████████████| 204kB 2.9MB/s \n",
            "\u001b[?25hCollecting mpld3\n",
            "\u001b[?25l  Downloading https://files.pythonhosted.org/packages/91/95/a52d3a83d0a29ba0d6898f6727e9858fe7a43f6c2ce81a5fe7e05f0f4912/mpld3-0.3.tar.gz (788kB)\n",
            "\u001b[K     |████████████████████████████████| 798kB 47.0MB/s \n",
            "\u001b[?25hRequirement already satisfied: lxml in /usr/local/lib/python3.6/dist-packages (from pixiedust) (4.2.6)\n",
            "Collecting geojson\n",
            "  Downloading https://files.pythonhosted.org/packages/e4/8d/9e28e9af95739e6d2d2f8d4bef0b3432da40b7c3588fbad4298c1be09e48/geojson-2.5.0-py2.py3-none-any.whl\n",
            "Collecting astunparse\n",
            "  Downloading https://files.pythonhosted.org/packages/2b/03/13dde6512ad7b4557eb792fbcf0c653af6076b81e5941d36ec61f7ce6028/astunparse-1.6.3-py2.py3-none-any.whl\n",
            "Requirement already satisfied: markdown in /usr/local/lib/python3.6/dist-packages (from pixiedust) (3.2.1)\n",
            "Collecting colour\n",
            "  Downloading https://files.pythonhosted.org/packages/74/46/e81907704ab203206769dee1385dc77e1407576ff8f50a0681d0a6b541be/colour-0.1.5-py2.py3-none-any.whl\n",
            "Requirement already satisfied: requests in /usr/local/lib/python3.6/dist-packages (from pixiedust) (2.21.0)\n",
            "Requirement already satisfied: wheel<1.0,>=0.23.0 in /usr/local/lib/python3.6/dist-packages (from astunparse->pixiedust) (0.34.2)\n",
            "Requirement already satisfied: six<2.0,>=1.6.1 in /usr/local/lib/python3.6/dist-packages (from astunparse->pixiedust) (1.12.0)\n",
            "Requirement already satisfied: setuptools>=36 in /usr/local/lib/python3.6/dist-packages (from markdown->pixiedust) (45.2.0)\n",
            "Requirement already satisfied: urllib3<1.25,>=1.21.1 in /usr/local/lib/python3.6/dist-packages (from requests->pixiedust) (1.24.3)\n",
            "Requirement already satisfied: certifi>=2017.4.17 in /usr/local/lib/python3.6/dist-packages (from requests->pixiedust) (2019.11.28)\n",
            "Requirement already satisfied: idna<2.9,>=2.5 in /usr/local/lib/python3.6/dist-packages (from requests->pixiedust) (2.8)\n",
            "Requirement already satisfied: chardet<3.1.0,>=3.0.2 in /usr/local/lib/python3.6/dist-packages (from requests->pixiedust) (3.0.4)\n",
            "Building wheels for collected packages: pixiedust, mpld3\n",
            "  Building wheel for pixiedust (setup.py) ... \u001b[?25l\u001b[?25hdone\n",
            "  Created wheel for pixiedust: filename=pixiedust-1.1.18-cp36-none-any.whl size=321729 sha256=99d580fab4b42031139ebd6d16eddb49243f3158302604749c53a59e802b6296\n",
            "  Stored in directory: /root/.cache/pip/wheels/e8/b1/86/c2f2e16e6bf9bfe556f9dbf8adb9f41816c476d73078c7d0eb\n",
            "  Building wheel for mpld3 (setup.py) ... \u001b[?25l\u001b[?25hdone\n",
            "  Created wheel for mpld3: filename=mpld3-0.3-cp36-none-any.whl size=116679 sha256=b16cdf33eb5ad7ca1687c11a49ca1c4feb6210783662e358d0d1cba08c5f94a5\n",
            "  Stored in directory: /root/.cache/pip/wheels/c0/47/fb/8a64f89aecfe0059830479308ad42d62e898a3e3cefdf6ba28\n",
            "Successfully built pixiedust mpld3\n",
            "Installing collected packages: mpld3, geojson, astunparse, colour, pixiedust\n",
            "Successfully installed astunparse-1.6.3 colour-0.1.5 geojson-2.5.0 mpld3-0.3 pixiedust-1.1.18\n"
          ],
          "name": "stdout"
        }
      ]
    },
    {
      "cell_type": "code",
      "metadata": {
        "id": "SDM_-rD0-aCX",
        "colab_type": "code",
        "colab": {
          "base_uri": "https://localhost:8080/",
          "height": 462
        },
        "outputId": "4f82dbe6-caa6-4703-e93e-b85ec5a425e9"
      },
      "source": [
        "import pandas as pd\n",
        "from pandas.plotting import register_matplotlib_converters\n",
        "register_matplotlib_converters()\n",
        "\n",
        "import numpy as np\n",
        "import matplotlib.pyplot as mpl\n",
        "%matplotlib inline\n",
        "import pixiedust\n",
        "import requests\n",
        "from requests_html import HTMLSession\n",
        "import re as regex\n",
        "\n",
        "import datetime as dt\n",
        "from pandas_datareader import data\n",
        "\n",
        "from IPython.display import clear_output\n",
        "\n",
        "import pickle"
      ],
      "execution_count": 2,
      "outputs": [
        {
          "output_type": "stream",
          "text": [
            "Pixiedust database opened successfully\n",
            "Table VERSION_TRACKER created successfully\n",
            "Table METRICS_TRACKER created successfully\n",
            "\n",
            "Share anonymous install statistics? (opt-out instructions)\n",
            "\n",
            "PixieDust will record metadata on its environment the next time the package is installed or updated. The data is anonymized and aggregated to help plan for future releases, and records only the following values:\n",
            "\n",
            "{\n",
            "   \"data_sent\": currentDate,\n",
            "   \"runtime\": \"python\",\n",
            "   \"application_version\": currentPixiedustVersion,\n",
            "   \"space_id\": nonIdentifyingUniqueId,\n",
            "   \"config\": {\n",
            "       \"repository_id\": \"https://github.com/ibm-watson-data-lab/pixiedust\",\n",
            "       \"target_runtimes\": [\"Data Science Experience\"],\n",
            "       \"event_id\": \"web\",\n",
            "       \"event_organizer\": \"dev-journeys\"\n",
            "   }\n",
            "}\n",
            "You can opt out by calling pixiedust.optOut() in a new cell.\n"
          ],
          "name": "stdout"
        },
        {
          "output_type": "display_data",
          "data": {
            "text/html": [
              "\n",
              "        <div style=\"margin:10px\">\n",
              "            <a href=\"https://github.com/ibm-watson-data-lab/pixiedust\" target=\"_new\">\n",
              "                <img src=\"https://github.com/ibm-watson-data-lab/pixiedust/raw/master/docs/_static/pd_icon32.png\" style=\"float:left;margin-right:10px\"/>\n",
              "            </a>\n",
              "            <span>Pixiedust version 1.1.18</span>\n",
              "        </div>\n",
              "        "
            ],
            "text/plain": [
              "<IPython.core.display.HTML object>"
            ]
          },
          "metadata": {
            "tags": []
          }
        },
        {
          "output_type": "stream",
          "text": [
            "\u001b[31mPixiedust runtime updated. Please restart kernel\u001b[0m\n",
            "Table USER_PREFERENCES created successfully\n",
            "Table service_connections created successfully\n"
          ],
          "name": "stdout"
        }
      ]
    },
    {
      "cell_type": "markdown",
      "metadata": {
        "id": "dGEBAWRb-Y4b",
        "colab_type": "text"
      },
      "source": [
        "1. Start by creating a new Notebook for this assignment.\n",
        "\n",
        "2. Use the Notebook to build the code to scrape the following Wikipedia page, https://en.wikipedia.org/wiki/List_of_postal_codes_of_Canada:_M, in order to obtain the data that is in the table of postal codes and to transform the data into a pandas dataframe "
      ]
    },
    {
      "cell_type": "code",
      "metadata": {
        "id": "SyQmwgjnCQq5",
        "colab_type": "code",
        "colab": {}
      },
      "source": [
        "#%%pixie_debugger\n",
        "\n",
        "session = HTMLSession()\n",
        "DF = pd.DataFrame()\n",
        "ret = session.get('https://en.wikipedia.org/wiki/List_of_postal_codes_of_Canada:_M')    \n",
        "try:\n",
        "    DF = pd.read_html(ret.text, decimal=\",\", thousands='.', encoding='utf-8')[0]\n",
        "    #DF.columns = DF.iloc[0]\n",
        "    #DF = DF.reset_index()\n",
        "except:\n",
        "    print('Página sem dados')\n",
        "    "
      ],
      "execution_count": 0,
      "outputs": []
    },
    {
      "cell_type": "code",
      "metadata": {
        "id": "XR7sJlQyDMvv",
        "colab_type": "code",
        "outputId": "ee133eb6-a96d-4c33-8b8f-6a7d7d9c295f",
        "colab": {
          "base_uri": "https://localhost:8080/",
          "height": 419
        }
      },
      "source": [
        "DF"
      ],
      "execution_count": 18,
      "outputs": [
        {
          "output_type": "execute_result",
          "data": {
            "text/html": [
              "<div>\n",
              "<style scoped>\n",
              "    .dataframe tbody tr th:only-of-type {\n",
              "        vertical-align: middle;\n",
              "    }\n",
              "\n",
              "    .dataframe tbody tr th {\n",
              "        vertical-align: top;\n",
              "    }\n",
              "\n",
              "    .dataframe thead th {\n",
              "        text-align: right;\n",
              "    }\n",
              "</style>\n",
              "<table border=\"1\" class=\"dataframe\">\n",
              "  <thead>\n",
              "    <tr style=\"text-align: right;\">\n",
              "      <th></th>\n",
              "      <th>Postcode</th>\n",
              "      <th>Borough</th>\n",
              "      <th>Neighbourhood</th>\n",
              "    </tr>\n",
              "  </thead>\n",
              "  <tbody>\n",
              "    <tr>\n",
              "      <th>0</th>\n",
              "      <td>M1A</td>\n",
              "      <td>Not assigned</td>\n",
              "      <td>Not assigned</td>\n",
              "    </tr>\n",
              "    <tr>\n",
              "      <th>1</th>\n",
              "      <td>M2A</td>\n",
              "      <td>Not assigned</td>\n",
              "      <td>Not assigned</td>\n",
              "    </tr>\n",
              "    <tr>\n",
              "      <th>2</th>\n",
              "      <td>M3A</td>\n",
              "      <td>North York</td>\n",
              "      <td>Parkwoods</td>\n",
              "    </tr>\n",
              "    <tr>\n",
              "      <th>3</th>\n",
              "      <td>M4A</td>\n",
              "      <td>North York</td>\n",
              "      <td>Victoria Village</td>\n",
              "    </tr>\n",
              "    <tr>\n",
              "      <th>4</th>\n",
              "      <td>M5A</td>\n",
              "      <td>Downtown Toronto</td>\n",
              "      <td>Harbourfront</td>\n",
              "    </tr>\n",
              "    <tr>\n",
              "      <th>...</th>\n",
              "      <td>...</td>\n",
              "      <td>...</td>\n",
              "      <td>...</td>\n",
              "    </tr>\n",
              "    <tr>\n",
              "      <th>282</th>\n",
              "      <td>M8Z</td>\n",
              "      <td>Etobicoke</td>\n",
              "      <td>Mimico NW</td>\n",
              "    </tr>\n",
              "    <tr>\n",
              "      <th>283</th>\n",
              "      <td>M8Z</td>\n",
              "      <td>Etobicoke</td>\n",
              "      <td>The Queensway West</td>\n",
              "    </tr>\n",
              "    <tr>\n",
              "      <th>284</th>\n",
              "      <td>M8Z</td>\n",
              "      <td>Etobicoke</td>\n",
              "      <td>Royal York South West</td>\n",
              "    </tr>\n",
              "    <tr>\n",
              "      <th>285</th>\n",
              "      <td>M8Z</td>\n",
              "      <td>Etobicoke</td>\n",
              "      <td>South of Bloor</td>\n",
              "    </tr>\n",
              "    <tr>\n",
              "      <th>286</th>\n",
              "      <td>M9Z</td>\n",
              "      <td>Not assigned</td>\n",
              "      <td>Not assigned</td>\n",
              "    </tr>\n",
              "  </tbody>\n",
              "</table>\n",
              "<p>287 rows × 3 columns</p>\n",
              "</div>"
            ],
            "text/plain": [
              "    Postcode           Borough          Neighbourhood\n",
              "0        M1A      Not assigned           Not assigned\n",
              "1        M2A      Not assigned           Not assigned\n",
              "2        M3A        North York              Parkwoods\n",
              "3        M4A        North York       Victoria Village\n",
              "4        M5A  Downtown Toronto           Harbourfront\n",
              "..       ...               ...                    ...\n",
              "282      M8Z         Etobicoke              Mimico NW\n",
              "283      M8Z         Etobicoke     The Queensway West\n",
              "284      M8Z         Etobicoke  Royal York South West\n",
              "285      M8Z         Etobicoke         South of Bloor\n",
              "286      M9Z      Not assigned           Not assigned\n",
              "\n",
              "[287 rows x 3 columns]"
            ]
          },
          "metadata": {
            "tags": []
          },
          "execution_count": 18
        }
      ]
    },
    {
      "cell_type": "markdown",
      "metadata": {
        "id": "iz9bjwo7GB0k",
        "colab_type": "text"
      },
      "source": [
        " 3. To create the above dataframe:\n",
        "\n",
        "- The dataframe will consist of three columns: PostalCode, Borough, and Neighborhood\n",
        "\n",
        "- Only process the cells that have an assigned borough. Ignore cells with a borough that is Not assigned."
      ]
    },
    {
      "cell_type": "code",
      "metadata": {
        "id": "ah3jcX6TGCi2",
        "colab_type": "code",
        "colab": {}
      },
      "source": [
        "# Get names of indexes for which column Age has value 30\n",
        "indexDrop = DF[DF['Borough'] == 'Not assigned'].index\n",
        " \n",
        "# Delete these row indexes from dataFrame\n",
        "DF.drop(indexDrop , inplace=True)"
      ],
      "execution_count": 0,
      "outputs": []
    },
    {
      "cell_type": "code",
      "metadata": {
        "id": "2Rca0Wx6Lksl",
        "colab_type": "code",
        "colab": {
          "base_uri": "https://localhost:8080/",
          "height": 419
        },
        "outputId": "bd8ed09c-006c-40dd-8b65-10f86635bdee"
      },
      "source": [
        "DF"
      ],
      "execution_count": 20,
      "outputs": [
        {
          "output_type": "execute_result",
          "data": {
            "text/html": [
              "<div>\n",
              "<style scoped>\n",
              "    .dataframe tbody tr th:only-of-type {\n",
              "        vertical-align: middle;\n",
              "    }\n",
              "\n",
              "    .dataframe tbody tr th {\n",
              "        vertical-align: top;\n",
              "    }\n",
              "\n",
              "    .dataframe thead th {\n",
              "        text-align: right;\n",
              "    }\n",
              "</style>\n",
              "<table border=\"1\" class=\"dataframe\">\n",
              "  <thead>\n",
              "    <tr style=\"text-align: right;\">\n",
              "      <th></th>\n",
              "      <th>Postcode</th>\n",
              "      <th>Borough</th>\n",
              "      <th>Neighbourhood</th>\n",
              "    </tr>\n",
              "  </thead>\n",
              "  <tbody>\n",
              "    <tr>\n",
              "      <th>2</th>\n",
              "      <td>M3A</td>\n",
              "      <td>North York</td>\n",
              "      <td>Parkwoods</td>\n",
              "    </tr>\n",
              "    <tr>\n",
              "      <th>3</th>\n",
              "      <td>M4A</td>\n",
              "      <td>North York</td>\n",
              "      <td>Victoria Village</td>\n",
              "    </tr>\n",
              "    <tr>\n",
              "      <th>4</th>\n",
              "      <td>M5A</td>\n",
              "      <td>Downtown Toronto</td>\n",
              "      <td>Harbourfront</td>\n",
              "    </tr>\n",
              "    <tr>\n",
              "      <th>5</th>\n",
              "      <td>M6A</td>\n",
              "      <td>North York</td>\n",
              "      <td>Lawrence Heights</td>\n",
              "    </tr>\n",
              "    <tr>\n",
              "      <th>6</th>\n",
              "      <td>M6A</td>\n",
              "      <td>North York</td>\n",
              "      <td>Lawrence Manor</td>\n",
              "    </tr>\n",
              "    <tr>\n",
              "      <th>...</th>\n",
              "      <td>...</td>\n",
              "      <td>...</td>\n",
              "      <td>...</td>\n",
              "    </tr>\n",
              "    <tr>\n",
              "      <th>281</th>\n",
              "      <td>M8Z</td>\n",
              "      <td>Etobicoke</td>\n",
              "      <td>Kingsway Park South West</td>\n",
              "    </tr>\n",
              "    <tr>\n",
              "      <th>282</th>\n",
              "      <td>M8Z</td>\n",
              "      <td>Etobicoke</td>\n",
              "      <td>Mimico NW</td>\n",
              "    </tr>\n",
              "    <tr>\n",
              "      <th>283</th>\n",
              "      <td>M8Z</td>\n",
              "      <td>Etobicoke</td>\n",
              "      <td>The Queensway West</td>\n",
              "    </tr>\n",
              "    <tr>\n",
              "      <th>284</th>\n",
              "      <td>M8Z</td>\n",
              "      <td>Etobicoke</td>\n",
              "      <td>Royal York South West</td>\n",
              "    </tr>\n",
              "    <tr>\n",
              "      <th>285</th>\n",
              "      <td>M8Z</td>\n",
              "      <td>Etobicoke</td>\n",
              "      <td>South of Bloor</td>\n",
              "    </tr>\n",
              "  </tbody>\n",
              "</table>\n",
              "<p>210 rows × 3 columns</p>\n",
              "</div>"
            ],
            "text/plain": [
              "    Postcode           Borough             Neighbourhood\n",
              "2        M3A        North York                 Parkwoods\n",
              "3        M4A        North York          Victoria Village\n",
              "4        M5A  Downtown Toronto              Harbourfront\n",
              "5        M6A        North York          Lawrence Heights\n",
              "6        M6A        North York            Lawrence Manor\n",
              "..       ...               ...                       ...\n",
              "281      M8Z         Etobicoke  Kingsway Park South West\n",
              "282      M8Z         Etobicoke                 Mimico NW\n",
              "283      M8Z         Etobicoke        The Queensway West\n",
              "284      M8Z         Etobicoke     Royal York South West\n",
              "285      M8Z         Etobicoke            South of Bloor\n",
              "\n",
              "[210 rows x 3 columns]"
            ]
          },
          "metadata": {
            "tags": []
          },
          "execution_count": 20
        }
      ]
    },
    {
      "cell_type": "markdown",
      "metadata": {
        "id": "SMssS4gVN3sz",
        "colab_type": "text"
      },
      "source": [
        "- More than one neighborhood can exist in one postal code area. For example, in the table on the Wikipedia page, you will notice that M5A is listed twice and has two neighborhoods: Harbourfront and Regent Park. These two rows will be combined into one row with the neighborhoods separated with a comma as shown in row 11 in the above table.\n",
        "- If a cell has a borough but a Not assigned neighborhood, then the neighborhood will be the same as the borough."
      ]
    },
    {
      "cell_type": "code",
      "metadata": {
        "id": "o1poOFbfMfwO",
        "colab_type": "code",
        "colab": {
          "base_uri": "https://localhost:8080/",
          "height": 49
        },
        "outputId": "bf8f2128-d701-4da3-afa9-6e89bd3f3e90"
      },
      "source": [
        "DF[DF['Neighbourhood']=='Not assigned']"
      ],
      "execution_count": 25,
      "outputs": [
        {
          "output_type": "execute_result",
          "data": {
            "text/html": [
              "<div>\n",
              "<style scoped>\n",
              "    .dataframe tbody tr th:only-of-type {\n",
              "        vertical-align: middle;\n",
              "    }\n",
              "\n",
              "    .dataframe tbody tr th {\n",
              "        vertical-align: top;\n",
              "    }\n",
              "\n",
              "    .dataframe thead th {\n",
              "        text-align: right;\n",
              "    }\n",
              "</style>\n",
              "<table border=\"1\" class=\"dataframe\">\n",
              "  <thead>\n",
              "    <tr style=\"text-align: right;\">\n",
              "      <th></th>\n",
              "      <th>Postcode</th>\n",
              "      <th>Borough</th>\n",
              "      <th>Neighbourhood</th>\n",
              "    </tr>\n",
              "  </thead>\n",
              "  <tbody>\n",
              "  </tbody>\n",
              "</table>\n",
              "</div>"
            ],
            "text/plain": [
              "Empty DataFrame\n",
              "Columns: [Postcode, Borough, Neighbourhood]\n",
              "Index: []"
            ]
          },
          "metadata": {
            "tags": []
          },
          "execution_count": 25
        }
      ]
    },
    {
      "cell_type": "code",
      "metadata": {
        "id": "qOtH8CSXOjgu",
        "colab_type": "code",
        "colab": {}
      },
      "source": [
        ""
      ],
      "execution_count": 0,
      "outputs": []
    },
    {
      "cell_type": "markdown",
      "metadata": {
        "id": "n8yp-X-BQUkn",
        "colab_type": "text"
      },
      "source": [
        "No row has a neighbourhood that is 'Not assigned''"
      ]
    },
    {
      "cell_type": "markdown",
      "metadata": {
        "id": "ySTWJYruP9sJ",
        "colab_type": "text"
      },
      "source": [
        "- Clean your Notebook and add Markdown cells to explain your work and any assumptions you are making.\n",
        "- In the last cell of your notebook, use the .shape method to print the number of rows of your dataframe."
      ]
    },
    {
      "cell_type": "code",
      "metadata": {
        "id": "Dag2ySzyP-gd",
        "colab_type": "code",
        "colab": {
          "base_uri": "https://localhost:8080/",
          "height": 34
        },
        "outputId": "675790e6-5968-4470-8abd-5e5ea94c6ff6"
      },
      "source": [
        "DF.shape"
      ],
      "execution_count": 26,
      "outputs": [
        {
          "output_type": "execute_result",
          "data": {
            "text/plain": [
              "(210, 3)"
            ]
          },
          "metadata": {
            "tags": []
          },
          "execution_count": 26
        }
      ]
    },
    {
      "cell_type": "code",
      "metadata": {
        "id": "xZqCwpc9Qd0z",
        "colab_type": "code",
        "colab": {}
      },
      "source": [
        ""
      ],
      "execution_count": 0,
      "outputs": []
    }
  ]
}